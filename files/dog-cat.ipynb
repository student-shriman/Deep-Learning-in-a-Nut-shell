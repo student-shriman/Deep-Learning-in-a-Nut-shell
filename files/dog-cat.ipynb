{
 "cells": [
  {
   "cell_type": "markdown",
   "metadata": {},
   "source": [
    "#  Dog Cat Classification"
   ]
  },
  {
   "cell_type": "raw",
   "metadata": {
    "colab": {
     "base_uri": "https://localhost:8080/",
     "height": 215
    },
    "executionInfo": {
     "elapsed": 2285,
     "status": "ok",
     "timestamp": 1602900938195,
     "user": {
      "displayName": "Shriman Narayan",
      "photoUrl": "https://lh3.googleusercontent.com/a-/AOh14GhI7aCBdsTCHbbj8fcNLnU-Gfibi0_zUoS3nB9p0g=s64",
      "userId": "16617732248860771229"
     },
     "user_tz": -330
    },
    "id": "cnkTZHPSsyeX",
    "outputId": "044cf162-ef9f-4f79-804b-dfe4e7fe742c"
   },
   "source": [
    "#  Fetching Cat-Dog Classification Dataset \n",
    "!wget --no-check-certificate \\\n",
    "    https://storage.googleapis.com/mledu-datasets/cats_and_dogs_filtered.zip \\ -O cats_and_dogs_filtered.zip\n",
    "\n",
    "#  Unzipping the datset and extracting\n",
    "import os\n",
    "import zipfile\n",
    "\n",
    "local_zip = 'cats_and_dogs_filtered.zip'\n",
    "zip_ref = zipfile.ZipFile(local_zip, 'r')\n",
    "zip_ref.extractall('')\n",
    "zip_ref.close()"
   ]
  },
  {
   "cell_type": "code",
   "execution_count": 1,
   "metadata": {
    "colab": {
     "base_uri": "https://localhost:8080/",
     "height": 271
    },
    "executionInfo": {
     "elapsed": 3004,
     "status": "ok",
     "timestamp": 1602900864276,
     "user": {
      "displayName": "Shriman Narayan",
      "photoUrl": "https://lh3.googleusercontent.com/a-/AOh14GhI7aCBdsTCHbbj8fcNLnU-Gfibi0_zUoS3nB9p0g=s64",
      "userId": "16617732248860771229"
     },
     "user_tz": -330
    },
    "id": "yT3Ugn1eMoXu",
    "outputId": "246affce-a50c-49db-b309-1810b56c7850",
    "scrolled": true
   },
   "outputs": [
    {
     "name": "stderr",
     "output_type": "stream",
     "text": [
      "Using TensorFlow backend.\n",
      "/home/student-shriman/anaconda3/envs/tf1/lib/python3.6/site-packages/tensorflow/python/framework/dtypes.py:516: FutureWarning: Passing (type, 1) or '1type' as a synonym of type is deprecated; in a future version of numpy, it will be understood as (type, (1,)) / '(1,)type'.\n",
      "  _np_qint8 = np.dtype([(\"qint8\", np.int8, 1)])\n",
      "/home/student-shriman/anaconda3/envs/tf1/lib/python3.6/site-packages/tensorflow/python/framework/dtypes.py:517: FutureWarning: Passing (type, 1) or '1type' as a synonym of type is deprecated; in a future version of numpy, it will be understood as (type, (1,)) / '(1,)type'.\n",
      "  _np_quint8 = np.dtype([(\"quint8\", np.uint8, 1)])\n",
      "/home/student-shriman/anaconda3/envs/tf1/lib/python3.6/site-packages/tensorflow/python/framework/dtypes.py:518: FutureWarning: Passing (type, 1) or '1type' as a synonym of type is deprecated; in a future version of numpy, it will be understood as (type, (1,)) / '(1,)type'.\n",
      "  _np_qint16 = np.dtype([(\"qint16\", np.int16, 1)])\n",
      "/home/student-shriman/anaconda3/envs/tf1/lib/python3.6/site-packages/tensorflow/python/framework/dtypes.py:519: FutureWarning: Passing (type, 1) or '1type' as a synonym of type is deprecated; in a future version of numpy, it will be understood as (type, (1,)) / '(1,)type'.\n",
      "  _np_quint16 = np.dtype([(\"quint16\", np.uint16, 1)])\n",
      "/home/student-shriman/anaconda3/envs/tf1/lib/python3.6/site-packages/tensorflow/python/framework/dtypes.py:520: FutureWarning: Passing (type, 1) or '1type' as a synonym of type is deprecated; in a future version of numpy, it will be understood as (type, (1,)) / '(1,)type'.\n",
      "  _np_qint32 = np.dtype([(\"qint32\", np.int32, 1)])\n",
      "/home/student-shriman/anaconda3/envs/tf1/lib/python3.6/site-packages/tensorflow/python/framework/dtypes.py:525: FutureWarning: Passing (type, 1) or '1type' as a synonym of type is deprecated; in a future version of numpy, it will be understood as (type, (1,)) / '(1,)type'.\n",
      "  np_resource = np.dtype([(\"resource\", np.ubyte, 1)])\n",
      "/home/student-shriman/anaconda3/envs/tf1/lib/python3.6/site-packages/tensorboard/compat/tensorflow_stub/dtypes.py:541: FutureWarning: Passing (type, 1) or '1type' as a synonym of type is deprecated; in a future version of numpy, it will be understood as (type, (1,)) / '(1,)type'.\n",
      "  _np_qint8 = np.dtype([(\"qint8\", np.int8, 1)])\n",
      "/home/student-shriman/anaconda3/envs/tf1/lib/python3.6/site-packages/tensorboard/compat/tensorflow_stub/dtypes.py:542: FutureWarning: Passing (type, 1) or '1type' as a synonym of type is deprecated; in a future version of numpy, it will be understood as (type, (1,)) / '(1,)type'.\n",
      "  _np_quint8 = np.dtype([(\"quint8\", np.uint8, 1)])\n",
      "/home/student-shriman/anaconda3/envs/tf1/lib/python3.6/site-packages/tensorboard/compat/tensorflow_stub/dtypes.py:543: FutureWarning: Passing (type, 1) or '1type' as a synonym of type is deprecated; in a future version of numpy, it will be understood as (type, (1,)) / '(1,)type'.\n",
      "  _np_qint16 = np.dtype([(\"qint16\", np.int16, 1)])\n",
      "/home/student-shriman/anaconda3/envs/tf1/lib/python3.6/site-packages/tensorboard/compat/tensorflow_stub/dtypes.py:544: FutureWarning: Passing (type, 1) or '1type' as a synonym of type is deprecated; in a future version of numpy, it will be understood as (type, (1,)) / '(1,)type'.\n",
      "  _np_quint16 = np.dtype([(\"quint16\", np.uint16, 1)])\n",
      "/home/student-shriman/anaconda3/envs/tf1/lib/python3.6/site-packages/tensorboard/compat/tensorflow_stub/dtypes.py:545: FutureWarning: Passing (type, 1) or '1type' as a synonym of type is deprecated; in a future version of numpy, it will be understood as (type, (1,)) / '(1,)type'.\n",
      "  _np_qint32 = np.dtype([(\"qint32\", np.int32, 1)])\n",
      "/home/student-shriman/anaconda3/envs/tf1/lib/python3.6/site-packages/tensorboard/compat/tensorflow_stub/dtypes.py:550: FutureWarning: Passing (type, 1) or '1type' as a synonym of type is deprecated; in a future version of numpy, it will be understood as (type, (1,)) / '(1,)type'.\n",
      "  np_resource = np.dtype([(\"resource\", np.ubyte, 1)])\n"
     ]
    }
   ],
   "source": []
  },
  {
   "cell_type": "code",
   "execution_count": 2,
   "metadata": {
    "executionInfo": {
     "elapsed": 1367,
     "status": "ok",
     "timestamp": 1602900956474,
     "user": {
      "displayName": "Shriman Narayan",
      "photoUrl": "https://lh3.googleusercontent.com/a-/AOh14GhI7aCBdsTCHbbj8fcNLnU-Gfibi0_zUoS3nB9p0g=s64",
      "userId": "16617732248860771229"
     },
     "user_tz": -330
    },
    "id": "Lbonj6G7tOBq"
   },
   "outputs": [],
   "source": []
  },
  {
   "cell_type": "code",
   "execution_count": 3,
   "metadata": {
    "executionInfo": {
     "elapsed": 1414,
     "status": "ok",
     "timestamp": 1602900870701,
     "user": {
      "displayName": "Shriman Narayan",
      "photoUrl": "https://lh3.googleusercontent.com/a-/AOh14GhI7aCBdsTCHbbj8fcNLnU-Gfibi0_zUoS3nB9p0g=s64",
      "userId": "16617732248860771229"
     },
     "user_tz": -330
    },
    "id": "2HCs8ysKMoX1",
    "scrolled": true
   },
   "outputs": [
    {
     "name": "stdout",
     "output_type": "stream",
     "text": [
      "WARNING:tensorflow:From /home/student-shriman/anaconda3/envs/tf1/lib/python3.6/site-packages/keras/backend/tensorflow_backend.py:4070: The name tf.nn.max_pool is deprecated. Please use tf.nn.max_pool2d instead.\n",
      "\n",
      "WARNING:tensorflow:From /home/student-shriman/anaconda3/envs/tf1/lib/python3.6/site-packages/tensorflow/python/ops/nn_impl.py:180: add_dispatch_support.<locals>.wrapper (from tensorflow.python.ops.array_ops) is deprecated and will be removed in a future version.\n",
      "Instructions for updating:\n",
      "Use tf.where in 2.0, which has the same broadcast rule as np.where\n"
     ]
    }
   ],
   "source": []
  },
  {
   "cell_type": "markdown",
   "metadata": {},
   "source": [
    "# Part 2 - Fitting the CNN to the images"
   ]
  },
  {
   "cell_type": "code",
   "execution_count": 4,
   "metadata": {
    "colab": {
     "base_uri": "https://localhost:8080/",
     "height": 143
    },
    "executionInfo": {
     "elapsed": 29559,
     "status": "ok",
     "timestamp": 1602901012429,
     "user": {
      "displayName": "Shriman Narayan",
      "photoUrl": "https://lh3.googleusercontent.com/a-/AOh14GhI7aCBdsTCHbbj8fcNLnU-Gfibi0_zUoS3nB9p0g=s64",
      "userId": "16617732248860771229"
     },
     "user_tz": -330
    },
    "id": "vnyXRhPaMoYj",
    "outputId": "4b2ea7b8-3339-40e4-a55d-803ec47098f6",
    "scrolled": true
   },
   "outputs": [
    {
     "name": "stdout",
     "output_type": "stream",
     "text": [
      "Found 2000 images belonging to 2 classes.\n",
      "Found 1000 images belonging to 2 classes.\n",
      "WARNING:tensorflow:From /home/student-shriman/anaconda3/envs/tf1/lib/python3.6/site-packages/keras/backend/tensorflow_backend.py:422: The name tf.global_variables is deprecated. Please use tf.compat.v1.global_variables instead.\n",
      "\n",
      "Epoch 1/10\n",
      "100/100 [==============================] - 52s 520ms/step - loss: 0.7830 - accuracy: 0.5590 - val_loss: 0.5518 - val_accuracy: 0.6438\n",
      "Epoch 2/10\n",
      "100/100 [==============================] - 40s 398ms/step - loss: 0.6086 - accuracy: 0.6723 - val_loss: 0.4313 - val_accuracy: 0.6625\n",
      "Epoch 3/10\n",
      "100/100 [==============================] - 25s 250ms/step - loss: 0.5849 - accuracy: 0.6991 - val_loss: 0.6881 - val_accuracy: 0.5813\n",
      "Epoch 4/10\n",
      "100/100 [==============================] - 21s 207ms/step - loss: 0.5536 - accuracy: 0.7221 - val_loss: 0.5109 - val_accuracy: 0.6875\n",
      "Epoch 5/10\n",
      "100/100 [==============================] - 26s 257ms/step - loss: 0.5250 - accuracy: 0.7374 - val_loss: 0.5130 - val_accuracy: 0.7063\n",
      "Epoch 6/10\n",
      "100/100 [==============================] - 21s 210ms/step - loss: 0.5038 - accuracy: 0.7566 - val_loss: 0.7909 - val_accuracy: 0.7063\n",
      "Epoch 7/10\n",
      "100/100 [==============================] - 27s 267ms/step - loss: 0.4918 - accuracy: 0.7610 - val_loss: 0.6785 - val_accuracy: 0.7426\n",
      "Epoch 8/10\n",
      "100/100 [==============================] - 22s 223ms/step - loss: 0.4740 - accuracy: 0.7730 - val_loss: 0.7477 - val_accuracy: 0.6125\n",
      "Epoch 9/10\n",
      "100/100 [==============================] - 20s 205ms/step - loss: 0.4516 - accuracy: 0.7820 - val_loss: 0.4759 - val_accuracy: 0.6750\n",
      "Epoch 10/10\n",
      "100/100 [==============================] - 20s 201ms/step - loss: 0.4377 - accuracy: 0.8030 - val_loss: 0.4838 - val_accuracy: 0.7250\n",
      "Saved model to disk\n"
     ]
    }
   ],
   "source": []
  },
  {
   "cell_type": "markdown",
   "metadata": {},
   "source": [
    "# Getting Predictions"
   ]
  },
  {
   "cell_type": "code",
   "execution_count": 5,
   "metadata": {},
   "outputs": [
    {
     "data": {
      "text/plain": [
       "{'cats': 0, 'dogs': 1}"
      ]
     },
     "execution_count": 5,
     "metadata": {},
     "output_type": "execute_result"
    }
   ],
   "source": []
  },
  {
   "cell_type": "code",
   "execution_count": 9,
   "metadata": {
    "id": "HOdQQxkoMoYo"
   },
   "outputs": [
    {
     "name": "stdout",
     "output_type": "stream",
     "text": [
      "Copy the path of Image: parent/validation/dogs/dog.2003.jpg\n",
      "dog\n"
     ]
    }
   ],
   "source": []
  },
  {
   "cell_type": "code",
   "execution_count": null,
   "metadata": {},
   "outputs": [],
   "source": []
  }
 ],
 "metadata": {
  "colab": {
   "name": "Dog_cat_classification.ipynb",
   "provenance": []
  },
  "kernelspec": {
   "display_name": "Python 3",
   "language": "python",
   "name": "python3"
  },
  "language_info": {
   "codemirror_mode": {
    "name": "ipython",
    "version": 3
   },
   "file_extension": ".py",
   "mimetype": "text/x-python",
   "name": "python",
   "nbconvert_exporter": "python",
   "pygments_lexer": "ipython3",
   "version": "3.6.9"
  }
 },
 "nbformat": 4,
 "nbformat_minor": 1
}
