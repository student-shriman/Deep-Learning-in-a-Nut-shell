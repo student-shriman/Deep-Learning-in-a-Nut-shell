{
  "nbformat": 4,
  "nbformat_minor": 0,
  "metadata": {
    "colab": {
      "name": "Tensors in Pytorch",
      "provenance": []
    },
    "kernelspec": {
      "name": "python3",
      "display_name": "Python 3"
    }
  },
  "cells": [
    {
      "cell_type": "markdown",
      "metadata": {
        "id": "9zmJ0wm3HQCm"
      },
      "source": [
        "# Introduction to Pytorch and some Tensor operations"
      ]
    },
    {
      "cell_type": "markdown",
      "metadata": {
        "id": "Bf40GMUmHqOc"
      },
      "source": [
        " >  'Pytorch' or 'Torch' is a Deep Learning library brought by Facebook Inc. which is similar to Tensorflow by Google.\n",
        " <img src='https://i.blogs.es/fccc64/pytorch_que_es/1366_521.jpg' width = '480px'>\n",
        "\n",
        " >  Pytorch can be install by Python package manager 'pip' ."
      ]
    },
    {
      "cell_type": "code",
      "metadata": {
        "colab": {
          "base_uri": "https://localhost:8080/"
        },
        "id": "Vrj6dqO1KlXN",
        "outputId": "418826f6-0c4d-4733-9574-de6c4cab8c74"
      },
      "source": [
        "# Installing Tensorflow and Numpy\n",
        "! pip install torch numpy --quiet\n",
        "\n",
        "# Importing the modules\n",
        "import numpy as np\n",
        "import torch\n",
        "\n",
        "# Getting version of Pytorch\n",
        "print('Pytorch version is : ', torch.__version__)"
      ],
      "execution_count": null,
      "outputs": [
        {
          "output_type": "stream",
          "text": [
            "Pytorch version is :  1.7.0+cu101\n"
          ],
          "name": "stdout"
        }
      ]
    },
    {
      "cell_type": "code",
      "metadata": {
        "id": "OjNlZ7DGL_XL"
      },
      "source": [
        "         ##############    #################   Some Popular methods in Pytorch     #################    ###############\n",
        "\n",
        " =>  torch.tensor(obj)   ->  This method creates a tensor from the passing object (int, float, str, list, set, tuple, dict etc).\n",
        "\n",
        " =>  tensor.dtype        ->  This attribute return the datatype of 'Tensors'.\n",
        "\n",
        " =>  tensor.shape        ->  This attribute return the shape and size of tensors."
      ],
      "execution_count": null,
      "outputs": []
    },
    {
      "cell_type": "code",
      "metadata": {
        "colab": {
          "base_uri": "https://localhost:8080/"
        },
        "id": "SL64qsQtIoVK",
        "outputId": "015534ef-4c9e-4e46-f37b-bcc1f874a55a"
      },
      "source": [
        "# Creating a Tensor in Pytorch \n",
        "\n",
        "tensor = torch.tensor(4.)      # This will create a Tensor with a Floating point No. .\n",
        "\n",
        "# Getting Datatype of Tensors\n",
        "tensor.dtype                   # This returns the dtype of tensor    \n",
        "\n",
        "# Getting the shape of Tensor\n",
        "print (tensor.shape)"
      ],
      "execution_count": null,
      "outputs": [
        {
          "output_type": "stream",
          "text": [
            "torch.Size([])\n"
          ],
          "name": "stdout"
        }
      ]
    },
    {
      "cell_type": "code",
      "metadata": {
        "id": "fxJJT0emKejA"
      },
      "source": [
        " =>  Creting a tensor with different datatypes will typecasts all the items into one type.\n",
        "\n",
        "       >>>  tensor = torch.tensor([1, 2, 3, 4., 5, 6, 7.])\n",
        "       \n",
        "       >>>  tensor  ->  tensor([1., 2., 3., 4., 5., 6., 7.])"
      ],
      "execution_count": null,
      "outputs": []
    },
    {
      "cell_type": "code",
      "metadata": {
        "id": "LA2GdroxVrbI"
      },
      "source": [
        " =>  Tensors can have any no. of Dimensions and different lengths along each dimension.\n",
        "\n",
        " =>  Shape of Tensors can be returned by 'shape' property of tensors.\n",
        "\n",
        " =>  Tensors created with single item will have an empty size.\n",
        "\n",
        "       >>> tensor = torch.tensor([4])\n",
        "       >>> tensor.shape  ->  torch.size([])"
      ],
      "execution_count": null,
      "outputs": []
    },
    {
      "cell_type": "code",
      "metadata": {
        "colab": {
          "base_uri": "https://localhost:8080/"
        },
        "id": "u1mMXNPnNmZs",
        "outputId": "8ba3a310-f7f8-4740-cc9a-8c7e4f0d906f"
      },
      "source": [
        "#  Creating Tensors of various shapes\n",
        "\n",
        "# Matrix Tensor of size (3,2) and 2 dimensions\n",
        "tensor_2d = torch.tensor([[1, 2],\n",
        "                          [3, 4],\n",
        "                          [5, 6]])\n",
        "\n",
        "# Matrix Tensor of size (2,2) and 3 dimensions\n",
        "tensor_3d = torch.tensor([[[1, 2, 3],\n",
        "               [4, 5, 6]],\n",
        "              [[7, 8, 9],\n",
        "               [10, 11, 12]]])\n",
        "\n",
        "# Getting the shape of Tensors\n",
        "print ('tensor_2d shape is : ', tensor_2d.shape)\n",
        "print ('tensor_3d shape is : ', tensor_3d.shape)"
      ],
      "execution_count": null,
      "outputs": [
        {
          "output_type": "stream",
          "text": [
            "tensor_2d shape is :  torch.Size([3, 2])\n",
            "tensor_3d shape is :  torch.Size([2, 2, 3])\n"
          ],
          "name": "stdout"
        }
      ]
    },
    {
      "cell_type": "markdown",
      "metadata": {
        "id": "WfIt2oZKO7LV"
      },
      "source": [
        "# Arithmetic opeartions on Tensors"
      ]
    },
    {
      "cell_type": "code",
      "metadata": {
        "colab": {
          "base_uri": "https://localhost:8080/"
        },
        "id": "-32XVW7XXCkB",
        "outputId": "091cf074-7708-4145-fd6e-215230b98b9f"
      },
      "source": [
        " # Creating Tensors\n",
        "x = torch.tensor(3.)\n",
        "w = torch.tensor(4., requires_grad=True)\n",
        "b = torch.tensor(5., requires_grad=True)\n",
        "\n",
        "# Printing all created Tensors\n",
        "print (x, w, b, sep=', ')\n",
        "\n",
        "# Performing an Arithmetic operation on Tensors\n",
        "y = w*x + b         # This is a Straight line.\n",
        "\n",
        "# Printing the result\n",
        "print(y)\n",
        "\n",
        "# Compute derivatives\n",
        "y.backward()"
      ],
      "execution_count": 28,
      "outputs": [
        {
          "output_type": "stream",
          "text": [
            "tensor(3.), tensor(4., requires_grad=True), tensor(5., requires_grad=True)\n",
            "tensor(17., grad_fn=<AddBackward0>)\n"
          ],
          "name": "stdout"
        }
      ]
    },
    {
      "cell_type": "code",
      "metadata": {
        "colab": {
          "base_uri": "https://localhost:8080/"
        },
        "id": "tYWsq5xDatu1",
        "outputId": "a53bc7fc-c2ec-4ebd-d05b-21870e89402b"
      },
      "source": [
        "# Display gradients\n",
        "print('dy/dx:', x.grad)\n",
        "print('dy/dw:', w.grad)\n",
        "print('dy/db:', b.grad)"
      ],
      "execution_count": 27,
      "outputs": [
        {
          "output_type": "stream",
          "text": [
            "dy/dx: None\n",
            "dy/dw: tensor(3.)\n",
            "dy/db: tensor(1.)\n"
          ],
          "name": "stdout"
        }
      ]
    },
    {
      "cell_type": "code",
      "metadata": {
        "colab": {
          "base_uri": "https://localhost:8080/"
        },
        "id": "JsEgdoUKXIGB",
        "outputId": "6215d804-b614-4b13-c27c-9d7003e81705"
      },
      "source": [
        " =>  Pytorch uses 'requires_grad=True' attribute for calculating the Gradients or Derivatives of tensors automatically and \n",
        "        this feature is known as 'AutoGrad'. f(x).backward() is used to get the gradients with calculated by 'autograd' feature.\n",
        "\n",
        " =>  We uses grad attribute to get the derivatives of Fn with respect to object.\n",
        "\n",
        "        >>>  x.grad    ->  This gives the gradient of Fn 'Y' with respect to variable 'x' .\n",
        "        >>>  w.grad    ->  This gives the gradient of Fn 'Y' with respect to variable 'w' .\n",
        "        >>>  b.grad    ->  This gives the gradient of Fn 'Y' with respect to variable 'b' .\n",
        "\n",
        " =>  'autograd' calculates the gradients only with those features, which have 'requires_grad=True' property.\n"
      ],
      "execution_count": 16,
      "outputs": [
        {
          "output_type": "execute_result",
          "data": {
            "text/plain": [
              "tensor(3.)"
            ]
          },
          "metadata": {
            "tags": []
          },
          "execution_count": 16
        }
      ]
    },
    {
      "cell_type": "markdown",
      "metadata": {
        "id": "EZI1OGGgceBn"
      },
      "source": [
        "# Pytorch - Numpy Integration"
      ]
    },
    {
      "cell_type": "code",
      "metadata": {
        "id": "uPF7UTlPXImY"
      },
      "source": [
        " =>  torch.from_numpy(nd_arr)  ->   This method is used to create a Pytorch Tensor with a Numpy array.\n",
        "\n",
        " =>  tensor.numpy(tensors)     ->   This method transform a Tensor back to the Numpy array."
      ],
      "execution_count": null,
      "outputs": []
    },
    {
      "cell_type": "markdown",
      "metadata": {
        "id": "OFSELJ7khtGW"
      },
      "source": [
        "## Tensor functions\n",
        "\n",
        "Apart from arithmetic operations, the `torch` module also contains many functions for creating and manipulating tensors. Let's look at some examples."
      ]
    },
    {
      "cell_type": "code",
      "metadata": {
        "id": "dqjfVIlbhubU"
      },
      "source": [
        "# Create a tensor with a fixed value for every element\n",
        "t6 = torch.full((3, 2), 42)\n",
        "t6"
      ],
      "execution_count": null,
      "outputs": []
    },
    {
      "cell_type": "code",
      "metadata": {
        "id": "ccJf5Si5hueS"
      },
      "source": [
        "# Concatenate two tensors with compatible shapes\n",
        "t7 = torch.cat((t3, t6))\n",
        "t7"
      ],
      "execution_count": null,
      "outputs": []
    },
    {
      "cell_type": "code",
      "metadata": {
        "id": "CUE82ZlVhug6"
      },
      "source": [
        "# Compute the sin of each element\n",
        "t8 = torch.sin(t7)\n",
        "t8"
      ],
      "execution_count": null,
      "outputs": []
    },
    {
      "cell_type": "code",
      "metadata": {
        "id": "_4A1ZqtRhukB"
      },
      "source": [
        "# Compute the sin of each element\n",
        "t8 = torch.sin(t7)\n",
        "t8"
      ],
      "execution_count": null,
      "outputs": []
    },
    {
      "cell_type": "code",
      "metadata": {
        "id": "H_dUZP6khunG"
      },
      "source": [
        "# Change the shape of a tensor\n",
        "t9 = t8.reshape(3, 2, 2)\n",
        "t9"
      ],
      "execution_count": null,
      "outputs": []
    },
    {
      "cell_type": "markdown",
      "metadata": {
        "id": "pRldmkvFhusx"
      },
      "source": [
        "You can learn more about tensor operations here: https://pytorch.org/docs/stable/torch.html . Experiment with some more tensor functions and operations using the empty cells below."
      ]
    },
    {
      "cell_type": "markdown",
      "metadata": {
        "id": "xPYMrl2ghuyp"
      },
      "source": [
        "## Interoperability with Numpy\n",
        "\n",
        "[Numpy](http://www.numpy.org/) is a popular open-source library used for mathematical and scientific computing in Python. It enables efficient operations on large multi-dimensional arrays and has a vast ecosystem of supporting libraries, including:\n",
        "\n",
        "* [Pandas](https://pandas.pydata.org/) for file I/O and data analysis\n",
        "* [Matplotlib](https://matplotlib.org/) for plotting and visualization\n",
        "* [OpenCV](https://opencv.org/) for image and video processing\n",
        "\n",
        "\n",
        "If you're interested in learning more about Numpy and other data science libraries in Python, check out this tutorial series: https://jovian.ai/aakashns/python-numerical-computing-with-numpy .\n",
        "\n",
        "Instead of reinventing the wheel, PyTorch interoperates well with Numpy to leverage its existing ecosystem of tools and libraries."
      ]
    },
    {
      "cell_type": "markdown",
      "metadata": {
        "id": "3t3AbfUThu2x"
      },
      "source": [
        "The interoperability between PyTorch and Numpy is essential because most datasets you'll work with will likely be read and preprocessed as Numpy arrays.\n",
        "\n",
        "You might wonder why we need a library like PyTorch at all since Numpy already provides data structures and utilities for working with multi-dimensional numeric data. There are two main reasons:\n",
        "\n",
        "1. **Autograd**: The ability to automatically compute gradients for tensor operations is essential for training deep learning models.\n",
        "2. **GPU support**: While working with massive datasets and large models, PyTorch tensor operations can be performed efficiently using a Graphics Processing Unit (GPU). Computations that might typically take hours can be completed within minutes using GPUs.\n",
        "\n",
        "We'll leverage both these features of PyTorch extensively in this tutorial series."
      ]
    },
    {
      "cell_type": "markdown",
      "metadata": {
        "id": "aRV0OHMRhuws"
      },
      "source": [
        "## Questions for Review\n",
        "\n",
        "Try answering the following questions to test your understanding of the topics covered in this notebook:\n",
        "\n",
        "1. What is PyTorch?\n",
        "2. What is a Jupyter notebook?\n",
        "3. What is Google Colab?\n",
        "4. How do you install PyTorch?\n",
        "5. How do you import the `torch` module?\n",
        "6. What is a vector? Give an example.\n",
        "7. What is a matrix? Give an example.\n",
        "8. What is a tensor?\n",
        "9. How do you create a PyTorch tensor? Illustrate with examples.\n",
        "10. What is the difference between a tensor and a vector or a matrix?\n",
        "11. Is every tensor a matrix?\n",
        "12. Is every matrix a tensor?\n",
        "13. What does the `dtype` property of a tensor represent?\n",
        "14. Is it possible to create a tensor with elements of different data types?\n",
        "15. How do you inspect the number of dimensions of a tensor and the length along each dimension?\n",
        "16. Is it possible to create a tensor with the values `[[1, 2, 3], [4, 5]]`? Why or why not?\n",
        "17. How do you perform arithmetic operations on tensors? Illustrate with examples?\n",
        "18. What happens if you specify `requires_grad=True` while creating a tensor? Illustrate with an example.\n",
        "19. What is autograd in PyTorch? How is it useful?\n",
        "20. What happens when you invoke  the `backward` method of a tensor?\n",
        "21. How do you check the derivates of a result tensor w.r.t. the tensors used to compute its value?\n",
        "22. Give some examples of functions available in the `torch` module for creating tensors.\n",
        "23. Give some examples of functions available in the `torch` module for performing mathematical operations on tensors.\n",
        "24. Where can you find the list of tensor operations available in PyTorch?\n",
        "25. What is Numpy?\n",
        "26. How do you create a Numpy array?\n",
        "27. How do you create a PyTorch tensor using a Numpy array?\n",
        "28. How do you create a Numpy array using a PyTorch tensor?\n",
        "29. Why is interoperability between PyTorch and Numpy important?\n",
        "30. What is the purpose of a library like PyTorch if Numpy already provides data structures and utilities to with multi-dimensional numeric data?\n",
        "31. What is Jovian?\n",
        "32. How do you upload your notebooks to Jovian using `jovian.commit` ?\n"
      ]
    },
    {
      "cell_type": "markdown",
      "metadata": {
        "id": "j1rFAnzahuq1"
      },
      "source": [
        "## Summary and Further Reading\n",
        "\n",
        "Try out this assignment to learn more about tensor operations in PyTorch: https://jovian.ai/aakashns/01-tensor-operations\n",
        "\n",
        "\n",
        "This tutorial covers the following topics:\n",
        "\n",
        "* Introductions to PyTorch tensors\n",
        "* Tensor operations and gradients\n",
        "* Interoperability between PyTorch and Numpy\n",
        "\n",
        "\n",
        "You can learn more about PyTorch tensors here: https://pytorch.org/docs/stable/tensors.html. \n",
        "\n",
        "\n",
        "The material in this series is inspired by:\n",
        "\n",
        "* [PyTorch Tutorial for Deep Learning Researchers](https://github.com/yunjey/pytorch-tutorial) by Yunjey Choi \n",
        "* [FastAI development notebooks](https://github.com/fastai/fastai_docs/tree/master/dev_nb) by Jeremy Howard. \n",
        "\n",
        "With this, we complete our discussion of tensors and gradients in PyTorch, and we're ready to move on to the next topic: [Gradient Descent & Linear Regression](https://jovian.ai/aakashns/02-linear-regression)."
      ]
    },
    {
      "cell_type": "code",
      "metadata": {
        "id": "9cX19AszjGfY"
      },
      "source": [
        ""
      ],
      "execution_count": null,
      "outputs": []
    }
  ]
}